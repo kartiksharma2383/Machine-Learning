{
  "nbformat": 4,
  "nbformat_minor": 0,
  "metadata": {
    "colab": {
      "provenance": [],
      "authorship_tag": "ABX9TyMjnX9qXhg1eBfuD2iX/TnB",
      "include_colab_link": true
    },
    "kernelspec": {
      "name": "python3",
      "display_name": "Python 3"
    },
    "language_info": {
      "name": "python"
    }
  },
  "cells": [
    {
      "cell_type": "markdown",
      "metadata": {
        "id": "view-in-github",
        "colab_type": "text"
      },
      "source": [
        "<a href=\"https://colab.research.google.com/github/kartiksharma2383/Machine-Learning/blob/main/Time_Series_Forecasting(ARIMA_and_ARIMAX)_in_ML.ipynb\" target=\"_parent\"><img src=\"https://colab.research.google.com/assets/colab-badge.svg\" alt=\"Open In Colab\"/></a>"
      ]
    },
    {
      "cell_type": "code",
      "source": [
        "# Time Series Forecasting (It is about predicting future values of a sequence (time-ordered data) based on its past patterns and external factors)\n",
        "import pandas as pd\n",
        "import matplotlib.pyplot as plt\n",
        "from statsmodels.tsa.arima.model import ARIMA\n",
        "from sklearn.metrics import mean_squared_error"
      ],
      "metadata": {
        "id": "9Y43AezZvDul"
      },
      "execution_count": null,
      "outputs": []
    },
    {
      "cell_type": "code",
      "source": [
        "data = pd.read_csv(\"/content/AirPassengers(ML - Time Series Forecasting dataset).csv\", parse_dates=['Month'], index_col='Month')\n",
        "data"
      ],
      "metadata": {
        "colab": {
          "base_uri": "https://localhost:8080/",
          "height": 455
        },
        "id": "g3oeedaHvz5B",
        "outputId": "2ff9f349-a2d7-4a92-d100-aa2ffa672a3f"
      },
      "execution_count": null,
      "outputs": [
        {
          "output_type": "execute_result",
          "data": {
            "text/plain": [
              "            #Passengers\n",
              "Month                  \n",
              "1949-01-01          112\n",
              "1949-02-01          118\n",
              "1949-03-01          132\n",
              "1949-04-01          129\n",
              "1949-05-01          121\n",
              "...                 ...\n",
              "1960-08-01          606\n",
              "1960-09-01          508\n",
              "1960-10-01          461\n",
              "1960-11-01          390\n",
              "1960-12-01          432\n",
              "\n",
              "[144 rows x 1 columns]"
            ],
            "text/html": [
              "\n",
              "  <div id=\"df-e6c68553-eb0f-4248-9c0a-bea7e1fd6e1e\" class=\"colab-df-container\">\n",
              "    <div>\n",
              "<style scoped>\n",
              "    .dataframe tbody tr th:only-of-type {\n",
              "        vertical-align: middle;\n",
              "    }\n",
              "\n",
              "    .dataframe tbody tr th {\n",
              "        vertical-align: top;\n",
              "    }\n",
              "\n",
              "    .dataframe thead th {\n",
              "        text-align: right;\n",
              "    }\n",
              "</style>\n",
              "<table border=\"1\" class=\"dataframe\">\n",
              "  <thead>\n",
              "    <tr style=\"text-align: right;\">\n",
              "      <th></th>\n",
              "      <th>#Passengers</th>\n",
              "    </tr>\n",
              "    <tr>\n",
              "      <th>Month</th>\n",
              "      <th></th>\n",
              "    </tr>\n",
              "  </thead>\n",
              "  <tbody>\n",
              "    <tr>\n",
              "      <th>1949-01-01</th>\n",
              "      <td>112</td>\n",
              "    </tr>\n",
              "    <tr>\n",
              "      <th>1949-02-01</th>\n",
              "      <td>118</td>\n",
              "    </tr>\n",
              "    <tr>\n",
              "      <th>1949-03-01</th>\n",
              "      <td>132</td>\n",
              "    </tr>\n",
              "    <tr>\n",
              "      <th>1949-04-01</th>\n",
              "      <td>129</td>\n",
              "    </tr>\n",
              "    <tr>\n",
              "      <th>1949-05-01</th>\n",
              "      <td>121</td>\n",
              "    </tr>\n",
              "    <tr>\n",
              "      <th>...</th>\n",
              "      <td>...</td>\n",
              "    </tr>\n",
              "    <tr>\n",
              "      <th>1960-08-01</th>\n",
              "      <td>606</td>\n",
              "    </tr>\n",
              "    <tr>\n",
              "      <th>1960-09-01</th>\n",
              "      <td>508</td>\n",
              "    </tr>\n",
              "    <tr>\n",
              "      <th>1960-10-01</th>\n",
              "      <td>461</td>\n",
              "    </tr>\n",
              "    <tr>\n",
              "      <th>1960-11-01</th>\n",
              "      <td>390</td>\n",
              "    </tr>\n",
              "    <tr>\n",
              "      <th>1960-12-01</th>\n",
              "      <td>432</td>\n",
              "    </tr>\n",
              "  </tbody>\n",
              "</table>\n",
              "<p>144 rows × 1 columns</p>\n",
              "</div>\n",
              "    <div class=\"colab-df-buttons\">\n",
              "\n",
              "  <div class=\"colab-df-container\">\n",
              "    <button class=\"colab-df-convert\" onclick=\"convertToInteractive('df-e6c68553-eb0f-4248-9c0a-bea7e1fd6e1e')\"\n",
              "            title=\"Convert this dataframe to an interactive table.\"\n",
              "            style=\"display:none;\">\n",
              "\n",
              "  <svg xmlns=\"http://www.w3.org/2000/svg\" height=\"24px\" viewBox=\"0 -960 960 960\">\n",
              "    <path d=\"M120-120v-720h720v720H120Zm60-500h600v-160H180v160Zm220 220h160v-160H400v160Zm0 220h160v-160H400v160ZM180-400h160v-160H180v160Zm440 0h160v-160H620v160ZM180-180h160v-160H180v160Zm440 0h160v-160H620v160Z\"/>\n",
              "  </svg>\n",
              "    </button>\n",
              "\n",
              "  <style>\n",
              "    .colab-df-container {\n",
              "      display:flex;\n",
              "      gap: 12px;\n",
              "    }\n",
              "\n",
              "    .colab-df-convert {\n",
              "      background-color: #E8F0FE;\n",
              "      border: none;\n",
              "      border-radius: 50%;\n",
              "      cursor: pointer;\n",
              "      display: none;\n",
              "      fill: #1967D2;\n",
              "      height: 32px;\n",
              "      padding: 0 0 0 0;\n",
              "      width: 32px;\n",
              "    }\n",
              "\n",
              "    .colab-df-convert:hover {\n",
              "      background-color: #E2EBFA;\n",
              "      box-shadow: 0px 1px 2px rgba(60, 64, 67, 0.3), 0px 1px 3px 1px rgba(60, 64, 67, 0.15);\n",
              "      fill: #174EA6;\n",
              "    }\n",
              "\n",
              "    .colab-df-buttons div {\n",
              "      margin-bottom: 4px;\n",
              "    }\n",
              "\n",
              "    [theme=dark] .colab-df-convert {\n",
              "      background-color: #3B4455;\n",
              "      fill: #D2E3FC;\n",
              "    }\n",
              "\n",
              "    [theme=dark] .colab-df-convert:hover {\n",
              "      background-color: #434B5C;\n",
              "      box-shadow: 0px 1px 3px 1px rgba(0, 0, 0, 0.15);\n",
              "      filter: drop-shadow(0px 1px 2px rgba(0, 0, 0, 0.3));\n",
              "      fill: #FFFFFF;\n",
              "    }\n",
              "  </style>\n",
              "\n",
              "    <script>\n",
              "      const buttonEl =\n",
              "        document.querySelector('#df-e6c68553-eb0f-4248-9c0a-bea7e1fd6e1e button.colab-df-convert');\n",
              "      buttonEl.style.display =\n",
              "        google.colab.kernel.accessAllowed ? 'block' : 'none';\n",
              "\n",
              "      async function convertToInteractive(key) {\n",
              "        const element = document.querySelector('#df-e6c68553-eb0f-4248-9c0a-bea7e1fd6e1e');\n",
              "        const dataTable =\n",
              "          await google.colab.kernel.invokeFunction('convertToInteractive',\n",
              "                                                    [key], {});\n",
              "        if (!dataTable) return;\n",
              "\n",
              "        const docLinkHtml = 'Like what you see? Visit the ' +\n",
              "          '<a target=\"_blank\" href=https://colab.research.google.com/notebooks/data_table.ipynb>data table notebook</a>'\n",
              "          + ' to learn more about interactive tables.';\n",
              "        element.innerHTML = '';\n",
              "        dataTable['output_type'] = 'display_data';\n",
              "        await google.colab.output.renderOutput(dataTable, element);\n",
              "        const docLink = document.createElement('div');\n",
              "        docLink.innerHTML = docLinkHtml;\n",
              "        element.appendChild(docLink);\n",
              "      }\n",
              "    </script>\n",
              "  </div>\n",
              "\n",
              "\n",
              "    <div id=\"df-d870b7cb-34f9-4a23-9a48-329e28f1bbb6\">\n",
              "      <button class=\"colab-df-quickchart\" onclick=\"quickchart('df-d870b7cb-34f9-4a23-9a48-329e28f1bbb6')\"\n",
              "                title=\"Suggest charts\"\n",
              "                style=\"display:none;\">\n",
              "\n",
              "<svg xmlns=\"http://www.w3.org/2000/svg\" height=\"24px\"viewBox=\"0 0 24 24\"\n",
              "     width=\"24px\">\n",
              "    <g>\n",
              "        <path d=\"M19 3H5c-1.1 0-2 .9-2 2v14c0 1.1.9 2 2 2h14c1.1 0 2-.9 2-2V5c0-1.1-.9-2-2-2zM9 17H7v-7h2v7zm4 0h-2V7h2v10zm4 0h-2v-4h2v4z\"/>\n",
              "    </g>\n",
              "</svg>\n",
              "      </button>\n",
              "\n",
              "<style>\n",
              "  .colab-df-quickchart {\n",
              "      --bg-color: #E8F0FE;\n",
              "      --fill-color: #1967D2;\n",
              "      --hover-bg-color: #E2EBFA;\n",
              "      --hover-fill-color: #174EA6;\n",
              "      --disabled-fill-color: #AAA;\n",
              "      --disabled-bg-color: #DDD;\n",
              "  }\n",
              "\n",
              "  [theme=dark] .colab-df-quickchart {\n",
              "      --bg-color: #3B4455;\n",
              "      --fill-color: #D2E3FC;\n",
              "      --hover-bg-color: #434B5C;\n",
              "      --hover-fill-color: #FFFFFF;\n",
              "      --disabled-bg-color: #3B4455;\n",
              "      --disabled-fill-color: #666;\n",
              "  }\n",
              "\n",
              "  .colab-df-quickchart {\n",
              "    background-color: var(--bg-color);\n",
              "    border: none;\n",
              "    border-radius: 50%;\n",
              "    cursor: pointer;\n",
              "    display: none;\n",
              "    fill: var(--fill-color);\n",
              "    height: 32px;\n",
              "    padding: 0;\n",
              "    width: 32px;\n",
              "  }\n",
              "\n",
              "  .colab-df-quickchart:hover {\n",
              "    background-color: var(--hover-bg-color);\n",
              "    box-shadow: 0 1px 2px rgba(60, 64, 67, 0.3), 0 1px 3px 1px rgba(60, 64, 67, 0.15);\n",
              "    fill: var(--button-hover-fill-color);\n",
              "  }\n",
              "\n",
              "  .colab-df-quickchart-complete:disabled,\n",
              "  .colab-df-quickchart-complete:disabled:hover {\n",
              "    background-color: var(--disabled-bg-color);\n",
              "    fill: var(--disabled-fill-color);\n",
              "    box-shadow: none;\n",
              "  }\n",
              "\n",
              "  .colab-df-spinner {\n",
              "    border: 2px solid var(--fill-color);\n",
              "    border-color: transparent;\n",
              "    border-bottom-color: var(--fill-color);\n",
              "    animation:\n",
              "      spin 1s steps(1) infinite;\n",
              "  }\n",
              "\n",
              "  @keyframes spin {\n",
              "    0% {\n",
              "      border-color: transparent;\n",
              "      border-bottom-color: var(--fill-color);\n",
              "      border-left-color: var(--fill-color);\n",
              "    }\n",
              "    20% {\n",
              "      border-color: transparent;\n",
              "      border-left-color: var(--fill-color);\n",
              "      border-top-color: var(--fill-color);\n",
              "    }\n",
              "    30% {\n",
              "      border-color: transparent;\n",
              "      border-left-color: var(--fill-color);\n",
              "      border-top-color: var(--fill-color);\n",
              "      border-right-color: var(--fill-color);\n",
              "    }\n",
              "    40% {\n",
              "      border-color: transparent;\n",
              "      border-right-color: var(--fill-color);\n",
              "      border-top-color: var(--fill-color);\n",
              "    }\n",
              "    60% {\n",
              "      border-color: transparent;\n",
              "      border-right-color: var(--fill-color);\n",
              "    }\n",
              "    80% {\n",
              "      border-color: transparent;\n",
              "      border-right-color: var(--fill-color);\n",
              "      border-bottom-color: var(--fill-color);\n",
              "    }\n",
              "    90% {\n",
              "      border-color: transparent;\n",
              "      border-bottom-color: var(--fill-color);\n",
              "    }\n",
              "  }\n",
              "</style>\n",
              "\n",
              "      <script>\n",
              "        async function quickchart(key) {\n",
              "          const quickchartButtonEl =\n",
              "            document.querySelector('#' + key + ' button');\n",
              "          quickchartButtonEl.disabled = true;  // To prevent multiple clicks.\n",
              "          quickchartButtonEl.classList.add('colab-df-spinner');\n",
              "          try {\n",
              "            const charts = await google.colab.kernel.invokeFunction(\n",
              "                'suggestCharts', [key], {});\n",
              "          } catch (error) {\n",
              "            console.error('Error during call to suggestCharts:', error);\n",
              "          }\n",
              "          quickchartButtonEl.classList.remove('colab-df-spinner');\n",
              "          quickchartButtonEl.classList.add('colab-df-quickchart-complete');\n",
              "        }\n",
              "        (() => {\n",
              "          let quickchartButtonEl =\n",
              "            document.querySelector('#df-d870b7cb-34f9-4a23-9a48-329e28f1bbb6 button');\n",
              "          quickchartButtonEl.style.display =\n",
              "            google.colab.kernel.accessAllowed ? 'block' : 'none';\n",
              "        })();\n",
              "      </script>\n",
              "    </div>\n",
              "\n",
              "  <div id=\"id_fc476fd3-6aec-4939-9668-010e918e6b10\">\n",
              "    <style>\n",
              "      .colab-df-generate {\n",
              "        background-color: #E8F0FE;\n",
              "        border: none;\n",
              "        border-radius: 50%;\n",
              "        cursor: pointer;\n",
              "        display: none;\n",
              "        fill: #1967D2;\n",
              "        height: 32px;\n",
              "        padding: 0 0 0 0;\n",
              "        width: 32px;\n",
              "      }\n",
              "\n",
              "      .colab-df-generate:hover {\n",
              "        background-color: #E2EBFA;\n",
              "        box-shadow: 0px 1px 2px rgba(60, 64, 67, 0.3), 0px 1px 3px 1px rgba(60, 64, 67, 0.15);\n",
              "        fill: #174EA6;\n",
              "      }\n",
              "\n",
              "      [theme=dark] .colab-df-generate {\n",
              "        background-color: #3B4455;\n",
              "        fill: #D2E3FC;\n",
              "      }\n",
              "\n",
              "      [theme=dark] .colab-df-generate:hover {\n",
              "        background-color: #434B5C;\n",
              "        box-shadow: 0px 1px 3px 1px rgba(0, 0, 0, 0.15);\n",
              "        filter: drop-shadow(0px 1px 2px rgba(0, 0, 0, 0.3));\n",
              "        fill: #FFFFFF;\n",
              "      }\n",
              "    </style>\n",
              "    <button class=\"colab-df-generate\" onclick=\"generateWithVariable('data')\"\n",
              "            title=\"Generate code using this dataframe.\"\n",
              "            style=\"display:none;\">\n",
              "\n",
              "  <svg xmlns=\"http://www.w3.org/2000/svg\" height=\"24px\"viewBox=\"0 0 24 24\"\n",
              "       width=\"24px\">\n",
              "    <path d=\"M7,19H8.4L18.45,9,17,7.55,7,17.6ZM5,21V16.75L18.45,3.32a2,2,0,0,1,2.83,0l1.4,1.43a1.91,1.91,0,0,1,.58,1.4,1.91,1.91,0,0,1-.58,1.4L9.25,21ZM18.45,9,17,7.55Zm-12,3A5.31,5.31,0,0,0,4.9,8.1,5.31,5.31,0,0,0,1,6.5,5.31,5.31,0,0,0,4.9,4.9,5.31,5.31,0,0,0,6.5,1,5.31,5.31,0,0,0,8.1,4.9,5.31,5.31,0,0,0,12,6.5,5.46,5.46,0,0,0,6.5,12Z\"/>\n",
              "  </svg>\n",
              "    </button>\n",
              "    <script>\n",
              "      (() => {\n",
              "      const buttonEl =\n",
              "        document.querySelector('#id_fc476fd3-6aec-4939-9668-010e918e6b10 button.colab-df-generate');\n",
              "      buttonEl.style.display =\n",
              "        google.colab.kernel.accessAllowed ? 'block' : 'none';\n",
              "\n",
              "      buttonEl.onclick = () => {\n",
              "        google.colab.notebook.generateWithVariable('data');\n",
              "      }\n",
              "      })();\n",
              "    </script>\n",
              "  </div>\n",
              "\n",
              "    </div>\n",
              "  </div>\n"
            ],
            "application/vnd.google.colaboratory.intrinsic+json": {
              "type": "dataframe",
              "variable_name": "data",
              "summary": "{\n  \"name\": \"data\",\n  \"rows\": 144,\n  \"fields\": [\n    {\n      \"column\": \"Month\",\n      \"properties\": {\n        \"dtype\": \"date\",\n        \"min\": \"1949-01-01 00:00:00\",\n        \"max\": \"1960-12-01 00:00:00\",\n        \"num_unique_values\": 144,\n        \"samples\": [\n          \"1958-10-01 00:00:00\",\n          \"1950-08-01 00:00:00\",\n          \"1955-11-01 00:00:00\"\n        ],\n        \"semantic_type\": \"\",\n        \"description\": \"\"\n      }\n    },\n    {\n      \"column\": \"#Passengers\",\n      \"properties\": {\n        \"dtype\": \"number\",\n        \"std\": 119,\n        \"min\": 104,\n        \"max\": 622,\n        \"num_unique_values\": 118,\n        \"samples\": [\n          293,\n          340,\n          121\n        ],\n        \"semantic_type\": \"\",\n        \"description\": \"\"\n      }\n    }\n  ]\n}"
            }
          },
          "metadata": {},
          "execution_count": 3
        }
      ]
    },
    {
      "cell_type": "code",
      "source": [
        "y = data['#Passengers']"
      ],
      "metadata": {
        "id": "l5AzTLaawGJb"
      },
      "execution_count": null,
      "outputs": []
    },
    {
      "cell_type": "code",
      "source": [
        "# exogenous variable (for ARIMAX)\n",
        "# len(y): This calculates the number of observations (rows) in the y Series (which contains the #Passengers data).\n",
        "# range(1, len(y)+1): This creates a sequence of numbers starting from 1 and going up to the total number of observations. This sequence represents a simple counter for each month.\n",
        "# {'MonthNum': ...}: This creates a Python dictionary where the key is 'MonthNum' and the value is the sequence of numbers generated by range().\n",
        "# index = y.index: This sets the index of the new exog DataFrame to be the same as the index of the y Series, cause index of y is the Month column (which is a datetime index), the exog DataFrame will also have a datetime index.\n",
        "exog = pd.DataFrame({'MonthNum': range(1, len(y)+1)}, index = y.index)\n",
        "use_arimax = True   # True -> ARIMAX, False -> ARIMA\n",
        "if not use_arimax:\n",
        "    exog = None"
      ],
      "metadata": {
        "id": "-D2to_M7wRrb"
      },
      "execution_count": null,
      "outputs": []
    },
    {
      "cell_type": "code",
      "source": [
        "# train, test = y[:-12], y[-12:]: This line splits the y Series into two parts: train and test, y[:-12] selects all elements of y except for the last 12 as training data. y[-12:] selects the last 12 elements of y as testing data.\n",
        "# train_exog = exog[:-12] if exog is not None else None: This line splits the exog DataFrame (the exogenous variable data) into a training set train_exog.\n",
        "# If exog is not None, exog[:-12] is executed, which selects all rows of exog except the last 12 and if exog is None, train_exog is set to None.\n",
        "# If exog is not None, exog[-12:] is executed, which selects the last 12 rows of exog, if exog is None, test_exog is set to None.\n",
        "train, test = y[:-12], y[-12:]\n",
        "train_exog = exog[:-12] if exog is not None else None\n",
        "test_exog = exog[-12:] if exog is not None else None"
      ],
      "metadata": {
        "id": "yOkYzxZGwdGl"
      },
      "execution_count": null,
      "outputs": []
    },
    {
      "cell_type": "code",
      "source": [
        "# order(p, d, q): Order for ARIMA model\n",
        "# p (the first number, which is 2 in this case): This is the order of the Autoregressive (AR) part of the model. It represents the number of lag observations included in the model, p of 2 means that the model will use the previous 2 time periods values to predict the current value.\n",
        "# d (the second number, which is 1 in this case): This is the order of the Integrated (I) part of the model. It represents the number of times the raw observations are differenced to make the time series stationary. A d of 1 means that the model will take the difference between consecutive observations once to remove trends or seasonality.\n",
        "# q (the third number, which is 2 in this case): This is the order of the Moving Average (MA) part of the model. It represents the number of lag forecast errors included in the model. A q of 2 means that the model will use the errors from the previous 2 time periods' forecasts to improve the current forecast.\n",
        "# order = order: This specifies the order of the non-seasonal ARIMA components. The order variable was previously defined as (2, 1, 2), so we are telling the model to use an AR(2), I(1), and MA(2) configuration.\n",
        "# exog = train_exog: This specifies the exogenous variable data to be used during training.\n",
        "order = (2, 1, 2)  # You can tune this\n",
        "model = ARIMA(train, order = order, exog = train_exog)\n",
        "result = model.fit()\n",
        "print(result.summary())"
      ],
      "metadata": {
        "colab": {
          "base_uri": "https://localhost:8080/"
        },
        "id": "4-irVvpRwf5x",
        "outputId": "d72570a5-2dbc-42f2-efda-2f0e4be663b0"
      },
      "execution_count": null,
      "outputs": [
        {
          "output_type": "stream",
          "name": "stderr",
          "text": [
            "/usr/local/lib/python3.12/dist-packages/statsmodels/tsa/base/tsa_model.py:473: ValueWarning: No frequency information was provided, so inferred frequency MS will be used.\n",
            "  self._init_dates(dates, freq)\n",
            "/usr/local/lib/python3.12/dist-packages/statsmodels/tsa/base/tsa_model.py:473: ValueWarning: No frequency information was provided, so inferred frequency MS will be used.\n",
            "  self._init_dates(dates, freq)\n",
            "/usr/local/lib/python3.12/dist-packages/statsmodels/tsa/base/tsa_model.py:473: ValueWarning: No frequency information was provided, so inferred frequency MS will be used.\n",
            "  self._init_dates(dates, freq)\n"
          ]
        },
        {
          "output_type": "stream",
          "name": "stdout",
          "text": [
            "                               SARIMAX Results                                \n",
            "==============================================================================\n",
            "Dep. Variable:            #Passengers   No. Observations:                  132\n",
            "Model:                 ARIMA(2, 1, 2)   Log Likelihood                -603.341\n",
            "Date:                Thu, 18 Sep 2025   AIC                           1218.683\n",
            "Time:                        13:26:46   BIC                           1235.934\n",
            "Sample:                    01-01-1949   HQIC                          1225.692\n",
            "                         - 12-01-1959                                         \n",
            "Covariance Type:                  opg                                         \n",
            "==============================================================================\n",
            "                 coef    std err          z      P>|z|      [0.025      0.975]\n",
            "------------------------------------------------------------------------------\n",
            "MonthNum       2.6519      0.802      3.305      0.001       1.079       4.224\n",
            "ar.L1          1.6430      0.028     57.902      0.000       1.587       1.699\n",
            "ar.L2         -0.9129      0.027    -33.337      0.000      -0.967      -0.859\n",
            "ma.L1         -1.8478      0.036    -51.470      0.000      -1.918      -1.777\n",
            "ma.L2          0.9466      0.038     24.992      0.000       0.872       1.021\n",
            "sigma2       564.8557     67.207      8.405      0.000     433.132     696.580\n",
            "===================================================================================\n",
            "Ljung-Box (L1) (Q):                   0.86   Jarque-Bera (JB):                 1.87\n",
            "Prob(Q):                              0.36   Prob(JB):                         0.39\n",
            "Heteroskedasticity (H):               6.40   Skew:                             0.26\n",
            "Prob(H) (two-sided):                  0.00   Kurtosis:                         3.26\n",
            "===================================================================================\n",
            "\n",
            "Warnings:\n",
            "[1] Covariance matrix calculated using the outer product of gradients (complex-step).\n"
          ]
        }
      ]
    },
    {
      "cell_type": "code",
      "source": [
        "# pred = result.predict(...): This calls the predict() method on the result object (which contains the fitted model).\n",
        "# start = len(train): This specifies the starting point for the predictions, len(train) gives the number of observations in the training set, by this model predict after the end of the training data.\n",
        "# end = len(y)-1: This specifies the ending point for the predictions. len(y) is the total number of observations in the original y Series. Subtracting 1 gives the index of the last observation.\n",
        "# typ = 'levels': This argument specifies the type of prediction you want, 'levels' (or 'linear') means you want the predictions in the original units of your time series data (the actual number of passengers).\n",
        "# exog = test_exog: This provides the exogenous variable data for the prediction period.\n",
        "# pred.index = test.index: This line assigns the index of the test Series to the pred Series for proper visualization and evaluation becaure it allows us to directly compare predicted values to actual values.\n",
        "pred = result.predict(start = len(train), end = len(y) - 1, typ = 'levels', exog = test_exog)\n",
        "pred.index = test.index"
      ],
      "metadata": {
        "colab": {
          "base_uri": "https://localhost:8080/"
        },
        "id": "42oDNlzMAGpK",
        "outputId": "ad9a395d-92d8-4224-c973-582a2e5e3194"
      },
      "execution_count": null,
      "outputs": [
        {
          "output_type": "stream",
          "name": "stderr",
          "text": [
            "/usr/local/lib/python3.12/dist-packages/statsmodels/tsa/statespace/representation.py:374: FutureWarning: Unknown keyword arguments: dict_keys(['typ']).Passing unknown keyword arguments will raise a TypeError beginning in version 0.15.\n",
            "  warnings.warn(msg, FutureWarning)\n"
          ]
        }
      ]
    },
    {
      "cell_type": "code",
      "source": [
        "plt.figure(figsize = (10,5))\n",
        "plt.plot(train, label = 'Train')\n",
        "plt.plot(test, label = 'Test')\n",
        "plt.plot(pred, label = 'Predictions', color = 'red')\n",
        "plt.legend()\n",
        "plt.show()"
      ],
      "metadata": {
        "colab": {
          "base_uri": "https://localhost:8080/",
          "height": 445
        },
        "id": "X_4IWwPSw4et",
        "outputId": "52bda480-5cf4-4766-e922-e494d9441930"
      },
      "execution_count": null,
      "outputs": [
        {
          "output_type": "display_data",
          "data": {
            "text/plain": [
              "<Figure size 1000x500 with 1 Axes>"
            ],
            "image/png": "[encoded data removed]"
          },
          "metadata": {}
        }
      ]
    },
    {
      "cell_type": "code",
      "source": [
        "print(\"MSE:\", mean_squared_error(test, pred))"
      ],
      "metadata": {
        "colab": {
          "base_uri": "https://localhost:8080/"
        },
        "id": "5jLhuLD6xCJH",
        "outputId": "f7b343d6-c280-49de-a213-06b9d98abb3d"
      },
      "execution_count": null,
      "outputs": [
        {
          "output_type": "stream",
          "name": "stdout",
          "text": [
            "MSE: 2839.9213798255955\n"
          ]
        }
      ]
    },
    {
      "cell_type": "code",
      "source": [
        "# In below code we full entire data not just training data\n",
        "# order=order: We are using the same (p, d, q) order that we defined earlier.\n",
        "# exog=exog: We are providing the entire exogenous variable data (exog) to the model, to train final model on available exogenous information.\n",
        "# forecast_steps = 36: Number of future time periods for which the ARIMA or ARIMAX model will generate predictions.\n",
        "# len(y): Total number of observations in the original time series data (y).\n",
        "# len(y) + 1: This is the starting number for the MonthNum sequence in the forecast period. It starts immediately after the last month in the original data.\n",
        "# len(y) + forecast_steps + 1: This is the ending number for the MonthNum sequence (exclusive). It ensures that the sequence includes forecast_steps number of future months.\n",
        "# MonthNum: This creates a dictionary entry where 'MonthNum' is the key and the generated sequence of numbers is the value.\n",
        "# y.index[-1]: This accesses the last date in the original time series data's index (y.index).\n",
        "# pd.offsets.MonthBegin(): This is a pandas offset object that represents the beginning of a month.\n",
        "# y.index[-1] + pd.offsets.MonthBegin(): This adds one month to the last date in the original data's index. This calculated date becomes the starting point for the future date range.\n",
        "# periods = forecast_steps: Specifies the number of dates to generate, which is equal to the number of forecast steps (36 in this case).\n",
        "# freq = 'MS': Specifies the frequency of the dates, which is 'MS' for Month Start.\n",
        "final_model = ARIMA(y, order = order, exog = exog).fit()\n",
        "forecast_steps = 36\n",
        "forecast_exog = pd.DataFrame({\n",
        "    'MonthNum': range(len(y) + 1, len(y) + forecast_steps + 1)},\n",
        "                             index = pd.date_range(start = y.index[-1] + pd.offsets.MonthBegin(),\n",
        "                                                 periods = forecast_steps, freq = 'MS')) if use_arimax else None"
      ],
      "metadata": {
        "colab": {
          "base_uri": "https://localhost:8080/"
        },
        "id": "u3bT3gWNxL9a",
        "outputId": "8d25047a-c2df-423d-f3ea-edbc77332469"
      },
      "execution_count": null,
      "outputs": [
        {
          "output_type": "stream",
          "name": "stderr",
          "text": [
            "/usr/local/lib/python3.12/dist-packages/statsmodels/tsa/base/tsa_model.py:473: ValueWarning: No frequency information was provided, so inferred frequency MS will be used.\n",
            "  self._init_dates(dates, freq)\n",
            "/usr/local/lib/python3.12/dist-packages/statsmodels/tsa/base/tsa_model.py:473: ValueWarning: No frequency information was provided, so inferred frequency MS will be used.\n",
            "  self._init_dates(dates, freq)\n",
            "/usr/local/lib/python3.12/dist-packages/statsmodels/tsa/base/tsa_model.py:473: ValueWarning: No frequency information was provided, so inferred frequency MS will be used.\n",
            "  self._init_dates(dates, freq)\n",
            "/usr/local/lib/python3.12/dist-packages/statsmodels/base/model.py:607: ConvergenceWarning: Maximum Likelihood optimization failed to converge. Check mle_retvals\n",
            "  warnings.warn(\"Maximum Likelihood optimization failed to \"\n"
          ]
        }
      ]
    },
    {
      "cell_type": "code",
      "source": [
        "# steps = forecast_steps: This specifies the number of future time periods for which you want to generate forecasts. In this case, it's 36 months.\n",
        "# exog = forecast_exog: This argument provides the exogenous variable data for the forecasting period.\n",
        "# If use_arimax is True, this will be the forecast_exog DataFrame we created with the future month numbers. If use_arimax is False, this will be None.\n",
        "# y.index[-1]: This gets the last date from the index of your original time series data (y).\n",
        "# pd.offsets.MonthBegin(): This is a pandas object representing the start of a month.\n",
        "# y.index[-1] + pd.offsets.MonthBegin(): This calculates the date of the first month after the last date in your original data. This is the starting point for your forecast index.\n",
        "# periods = forecast_steps: The number of dates to generate, which is equal to the number of forecast steps (36 in this case).\n",
        "# freq = 'MS': The frequency of the dates, 'MS' stands for Month Start, meaning each date will be the first day of the month.\n",
        "forecast = final_model.get_forecast(steps = forecast_steps, exog = forecast_exog)\n",
        "forecast_index = pd.date_range(start = y.index[-1] + pd.offsets.MonthBegin(), periods = forecast_steps, freq = 'MS')\n",
        "forecast_values = pd.Series(forecast.predicted_mean.values, index = forecast_index)"
      ],
      "metadata": {
        "id": "mibZNYGgxxwC"
      },
      "execution_count": null,
      "outputs": []
    },
    {
      "cell_type": "code",
      "source": [
        "plt.figure(figsize = (10,5))\n",
        "plt.plot(y, label = 'Observed')\n",
        "plt.plot(forecast_values, label = 'Forecast', color = 'red')\n",
        "plt.legend()\n",
        "plt.show()"
      ],
      "metadata": {
        "colab": {
          "base_uri": "https://localhost:8080/",
          "height": 445
        },
        "id": "VJNeo1AJSXVr",
        "outputId": "165eedea-6360-4c2c-d39f-02cf45747da2"
      },
      "execution_count": null,
      "outputs": [
        {
          "output_type": "display_data",
          "data": {
            "text/plain": [
              "<Figure size 1000x500 with 1 Axes>"
            ],
            "image/png": "[encoded data removed]"
          },
          "metadata": {}
        }
      ]
    }
  ]
}